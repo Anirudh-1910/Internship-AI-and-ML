{
 "cells": [
  {
   "cell_type": "markdown",
   "metadata": {},
   "source": [
    "# DAY - 2\n",
    "# Date - 26th May 2019"
   ]
  },
  {
   "cell_type": "markdown",
   "metadata": {},
   "source": [
    "### Problem 1:\n",
    "\n",
    "#### Problem Statement\n",
    "* Compute the total number of unique apps from the dataset.\n",
    "\n",
    "#### Constraints\n",
    "\n",
    "\n",
    "\n",
    "#### Test Cases:\n",
    "\n",
    "* Test Case 1\n",
    "* Test Case 2\n",
    "* Test Case 3"
   ]
  },
  {
   "cell_type": "code",
   "execution_count": 15,
   "metadata": {},
   "outputs": [
    {
     "name": "stdout",
     "output_type": "stream",
     "text": [
      "Apps = 7197\n",
      "Unique Apps = 7195\n"
     ]
    }
   ],
   "source": [
    "def UniqueApps(AppData):\n",
    "    df = pd.read_csv(AppData)\n",
    "    Apps=[]\n",
    "    Unique_Apps=[]\n",
    "    for i in df.values:\n",
    "        Apps.append(i[2])\n",
    "    print('Apps =',len(Apps))\n",
    "    Unique_Apps=set(Apps)\n",
    "    print('Unique Apps =',len(Unique_Apps))\n",
    "    \n",
    "UniqueApps('Datafiles/AppleStore.csv')"
   ]
  },
  {
   "cell_type": "markdown",
   "metadata": {},
   "source": [
    "### Problem 2:\n",
    "\n",
    "#### Problem Statement\n",
    "* Categorise the dataset based on content rating into the following\n",
    "    * Number of apps with content rating 4+\n",
    "    * Number of apps with content rating 9+\n",
    "    * Number of apps with content rating 12+\n",
    "    * Number of apps with content rating 17+ \n",
    "\n",
    "\n",
    "#### Constraints\n",
    "\n",
    "\n",
    "\n",
    "#### Test Cases:\n",
    "\n",
    "* Test Case 1\n",
    "* Test Case 2\n",
    "* Test Case 3"
   ]
  },
  {
   "cell_type": "code",
   "execution_count": 16,
   "metadata": {},
   "outputs": [
    {
     "name": "stdout",
     "output_type": "stream",
     "text": [
      "No. of Apps of rating 4+: 4433\n",
      "No. of Apps of rating 9+: 987\n",
      "No. of Apps of rating 12+: 1155\n",
      "No. of Apps of rating 17+: 622\n"
     ]
    }
   ],
   "source": [
    "def contentrating(AppData):\n",
    "    df = pd.read_csv(AppData)\n",
    "    rating4,rating9,rating12,rating17=[] ,[] ,[], []\n",
    "    for i in df.values:\n",
    "        if(i[11] == '4+'):\n",
    "            rating4.append(i[2])\n",
    "        if(i[11] == '9+'):\n",
    "            rating9.append(i[2])\n",
    "        if(i[11] == '12+'):\n",
    "            rating12.append(i[2])\n",
    "        if(i[11] == '17+'):\n",
    "            rating17.append(i[2])\n",
    "    print('No. of Apps of rating 4+:',len(rating4))\n",
    "    print('No. of Apps of rating 9+:',len(rating9))\n",
    "    print('No. of Apps of rating 12+:',len(rating12))\n",
    "    print('No. of Apps of rating 17+:',len(rating17))\n",
    "\n",
    "contentrating('Datafiles/AppleStore.csv')"
   ]
  },
  {
   "cell_type": "markdown",
   "metadata": {},
   "source": [
    "### Problem 3:\n",
    "\n",
    "#### Problem Statement\n",
    "* Print the Top 10 apps along with their rating based on the number of downloads(rating_count_tot)\n",
    "\n",
    "#### Constraints\n",
    "\n",
    "\n",
    "\n",
    "#### Test Cases:\n",
    "\n",
    "* Test Case 1\n",
    "* Test Case 2\n",
    "* Test Case 3"
   ]
  },
  {
   "cell_type": "code",
   "execution_count": 17,
   "metadata": {},
   "outputs": [
    {
     "name": "stdout",
     "output_type": "stream",
     "text": [
      "Facebook = 3.5\n",
      "Instagram = 4.0\n",
      "Clash of Clans = 4.5\n",
      "Temple Run = 4.0\n",
      "Pandora - Music & Radio = 4.5\n",
      "Pinterest = 4.0\n",
      "Bible = 5.0\n",
      "Candy Crush Saga = 4.5\n",
      "Spotify Music = 4.5\n",
      "Angry Birds = 3.0\n"
     ]
    }
   ],
   "source": [
    "def top10apps(AppData):\n",
    "    top10,l= [],[]\n",
    "    \n",
    "    df = pd.read_csv(AppData)\n",
    "    for i in df.values:\n",
    "        top10.append(i[6])\n",
    "        top10.sort(reverse = True)\n",
    "        l=top10[:10]\n",
    "    for j in range(0,len(l)):\n",
    "        for i in df.values:\n",
    "            if i[6]==l[j]:\n",
    "                print(i[2],'=',i[9])\n",
    "        #         if len(top10)==10:\n",
    "#             return top10\n",
    "#print('Average rating of free apps:',Avgratingoffreeapps('DataFiles/AppleStore.csv'))\n",
    "top10apps('DataFiles/AppleStore.csv')"
   ]
  }
 ],
 "metadata": {
  "kernelspec": {
   "display_name": "Python 3",
   "language": "python",
   "name": "python3"
  },
  "language_info": {
   "codemirror_mode": {
    "name": "ipython",
    "version": 3
   },
   "file_extension": ".py",
   "mimetype": "text/x-python",
   "name": "python",
   "nbconvert_exporter": "python",
   "pygments_lexer": "ipython3",
   "version": "3.7.3"
  }
 },
 "nbformat": 4,
 "nbformat_minor": 2
}
