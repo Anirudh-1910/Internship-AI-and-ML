{
 "cells": [
  {
   "cell_type": "markdown",
   "metadata": {},
   "source": [
    "### Problem 1:\n",
    "\n",
    "#### Problem Statement:\n",
    "How many runs of  Dhoni  On 4/23/2008  Chennai Super Kings vs Mumbai Indians Match ( Use Oops concepts)\n",
    "\n",
    "\n",
    "#### Constraints\n",
    "\n",
    "\n",
    "\n",
    "#### Test Cases:\n",
    "\n",
    "* Test Case 1\n",
    "* Test Case 2\n",
    "* Test Case 3"
   ]
  },
  {
   "cell_type": "code",
   "execution_count": 1,
   "metadata": {},
   "outputs": [
    {
     "name": "stdout",
     "output_type": "stream",
     "text": [
      "Player Match Id: [12862]\n",
      "Runs: 30\n"
     ]
    }
   ],
   "source": [
    "import pandas as pd\n",
    "import numpy as np\n",
    "class hit():\n",
    "    def thaliva(Data):\n",
    "        df=pd.read_csv('DataFiles/Player_match.csv')\n",
    "        df1=pd.read_csv('DataFiles/Ball_By_Ball.csv')\n",
    "        a,b=[],[]\n",
    "        for i in df.values:\n",
    "            if (i[4]=='MS Dhoni' and i[2]==335994):\n",
    "                a.append(i[0])\n",
    "        print('Player Match Id:',a)\n",
    "        for j in df1.values:\n",
    "            if (j[34]==a[0] and j[0]==335994 and j[27]=='4/23/2008'):\n",
    "                b.append(j[8])\n",
    "        print('Runs:',sum(b))\n",
    "obj=hit()\n",
    "obj.thaliva()"
   ]
  }
 ],
 "metadata": {
  "kernelspec": {
   "display_name": "Python 3",
   "language": "python",
   "name": "python3"
  },
  "language_info": {
   "codemirror_mode": {
    "name": "ipython",
    "version": 3
   },
   "file_extension": ".py",
   "mimetype": "text/x-python",
   "name": "python",
   "nbconvert_exporter": "python",
   "pygments_lexer": "ipython3",
   "version": "3.7.3"
  }
 },
 "nbformat": 4,
 "nbformat_minor": 2
}
