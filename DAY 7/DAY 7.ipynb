{
 "cells": [
  {
   "cell_type": "markdown",
   "metadata": {},
   "source": [
    "# DAY - 7\n",
    "# Date - 31th May 2019"
   ]
  },
  {
   "cell_type": "markdown",
   "metadata": {},
   "source": [
    "### Problem 1:\n",
    "\n",
    "#### Problem Statement:\n",
    "4/23/2008  Chennai Super Kings vs Mumbai Indians Match\n",
    "* Plot a bar graph for all the players in the   Mumbai Indians  team\n",
    "\n",
    "\n",
    "\n",
    "#### Constraints\n",
    "\n",
    "\n",
    "\n",
    "#### Test Cases:\n",
    "\n",
    "* Test Case 1\n",
    "* Test Case 2\n",
    "* Test Case 3"
   ]
  },
  {
   "cell_type": "code",
   "execution_count": 2,
   "metadata": {
    "scrolled": false
   },
   "outputs": [
    {
     "data": {
      "image/png": "[encoded data removed]",
      "text/plain": [
       "<Figure size 432x288 with 1 Axes>"
      ]
     },
     "metadata": {
      "needs_background": "light"
     },
     "output_type": "display_data"
    }
   ],
   "source": [
    "import pandas as pd\n",
    "import matplotlib.pyplot as plt\n",
    "class hell():\n",
    "    def players(Data):\n",
    "        df1=pd.read_csv('DataFiles/Player_match.csv')#,usecols=['Player_team'])\n",
    "        df=pd.read_csv('DataFiles/Ball_By_Ball.csv')\n",
    "        a,b,Runs_Scored,Ball_id=[],[],[],[]\n",
    "        for i in df1.values:\n",
    "            if ((i[11]=='Chennai Super Kings' and i[10]=='Mumbai Indians') and (i[2]==335994)):\n",
    "                a.append(i[4])\n",
    "                b.append(i[0])\n",
    "#         for j in df.values:\n",
    "#             Ball_id.append(i[2]) \n",
    "        for k in range(0,len(b)):\n",
    "            c=0\n",
    "            for l in df.values:#range (0,len(Ball_id)):\n",
    "                if l[34]== b[k]:\n",
    "                    c=c +l[8]\n",
    "            Runs_Scored.append(c)\n",
    "        width=1/2\n",
    "        plt.title('Scores')\n",
    "        plt.bar(a,Runs_Scored,width,color='green')\n",
    "        plt.xticks(a,fontsize = 7, rotation = 35)\n",
    "obj=hell()\n",
    "obj.players()"
   ]
  }
 ],
 "metadata": {
  "kernelspec": {
   "display_name": "Python 3",
   "language": "python",
   "name": "python3"
  },
  "language_info": {
   "codemirror_mode": {
    "name": "ipython",
    "version": 3
   },
   "file_extension": ".py",
   "mimetype": "text/x-python",
   "name": "python",
   "nbconvert_exporter": "python",
   "pygments_lexer": "ipython3",
   "version": "3.7.3"
  }
 },
 "nbformat": 4,
 "nbformat_minor": 2
}
